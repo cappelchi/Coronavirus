{
  "nbformat": 4,
  "nbformat_minor": 0,
  "metadata": {
    "colab": {
      "name": "Biopython coronavirus notebook tutorial.ipynb",
      "provenance": [],
      "collapsed_sections": [],
      "authorship_tag": "ABX9TyOcumct1Ck0FE3gl1IWQquW",
      "include_colab_link": true
    },
    "kernelspec": {
      "name": "python3",
      "display_name": "Python 3"
    }
  },
  "cells": [
    {
      "cell_type": "markdown",
      "metadata": {
        "id": "view-in-github",
        "colab_type": "text"
      },
      "source": [
        "<a href=\"https://colab.research.google.com/github/cappelchi/Coronavirus/blob/master/Biopython_coronavirus_notebook_tutorial.ipynb\" target=\"_parent\"><img src=\"https://colab.research.google.com/assets/colab-badge.svg\" alt=\"Open In Colab\"/></a>"
      ]
    },
    {
      "cell_type": "code",
      "metadata": {
        "id": "2cceWkw15XLl",
        "colab_type": "code",
        "outputId": "fcdfd910-d050-4bbf-ed10-9455c5cb6449",
        "colab": {
          "base_uri": "https://localhost:8080/",
          "height": 143
        }
      },
      "source": [
        "try:\n",
        "    import google.colab\n",
        "    # Running on Google Colab, so install Biopython first\n",
        "    !pip install biopython\n",
        "except ImportError:\n",
        "    pass"
      ],
      "execution_count": 2,
      "outputs": [
        {
          "output_type": "stream",
          "text": [
            "Collecting biopython\n",
            "\u001b[?25l  Downloading https://files.pythonhosted.org/packages/83/3d/e0c8a993dbea1136be90c31345aefc5babdd5046cd52f81c18fc3fdad865/biopython-1.76-cp36-cp36m-manylinux1_x86_64.whl (2.3MB)\n",
            "\u001b[K     |████████████████████████████████| 2.3MB 2.8MB/s \n",
            "\u001b[?25hRequirement already satisfied: numpy in /usr/local/lib/python3.6/dist-packages (from biopython) (1.18.2)\n",
            "Installing collected packages: biopython\n",
            "Successfully installed biopython-1.76\n"
          ],
          "name": "stdout"
        }
      ]
    },
    {
      "cell_type": "code",
      "metadata": {
        "id": "IKw4cmKh5ynK",
        "colab_type": "code",
        "outputId": "312ecbac-b6fe-45c4-9137-25ba450a02a0",
        "colab": {
          "base_uri": "https://localhost:8080/",
          "height": 52
        }
      },
      "source": [
        "import os\n",
        "import sys\n",
        "\n",
        "from urllib.request import urlretrieve\n",
        "\n",
        "import Bio\n",
        "from Bio import SeqIO, SearchIO, Entrez\n",
        "from Bio.Seq import Seq\n",
        "from Bio.SeqUtils import GC\n",
        "from Bio.Blast import NCBIWWW\n",
        "from Bio.Data import CodonTable\n",
        "\n",
        "print(\"Python version:\", sys.version_info)\n",
        "print(\"Biopython version:\", Bio.__version__)"
      ],
      "execution_count": 3,
      "outputs": [
        {
          "output_type": "stream",
          "text": [
            "Python version: sys.version_info(major=3, minor=6, micro=9, releaselevel='final', serial=0)\n",
            "Biopython version: 1.76\n"
          ],
          "name": "stdout"
        }
      ]
    },
    {
      "cell_type": "code",
      "metadata": {
        "id": "S1ZMZKC6-PFo",
        "colab_type": "code",
        "colab": {}
      },
      "source": [
        "input_file = \"unknown-sequence.fa\"\n",
        "\n",
        "fasta_loc = (\"https://raw.githubusercontent.com/chris-rands/\"\n",
        "             \"biopython-coronavirus/master/unknown-sequence.fa\")\n",
        "\n",
        "if not os.path.exists(input_file):\n",
        "    urlretrieve(fasta_loc, input_file)"
      ],
      "execution_count": 0,
      "outputs": []
    },
    {
      "cell_type": "code",
      "metadata": {
        "id": "KrzvgwcK-Z68",
        "colab_type": "code",
        "outputId": "45f3ab89-650a-49be-fda8-b7b4263b1252",
        "colab": {
          "base_uri": "https://localhost:8080/",
          "height": 34
        }
      },
      "source": [
        "for record in SeqIO.parse(input_file, \"fasta\"):\n",
        "    print(record.id)"
      ],
      "execution_count": 5,
      "outputs": [
        {
          "output_type": "stream",
          "text": [
            "Unknown_sequence\n"
          ],
          "name": "stdout"
        }
      ]
    },
    {
      "cell_type": "code",
      "metadata": {
        "id": "Pg3-xJjg-jNZ",
        "colab_type": "code",
        "colab": {}
      },
      "source": [
        "record = SeqIO.read(input_file, \"fasta\")"
      ],
      "execution_count": 0,
      "outputs": []
    },
    {
      "cell_type": "code",
      "metadata": {
        "id": "oDbSkAx8-lJ3",
        "colab_type": "code",
        "outputId": "41967074-1717-4993-e100-6deeb00de011",
        "colab": {
          "base_uri": "https://localhost:8080/",
          "height": 34
        }
      },
      "source": [
        "record.seq"
      ],
      "execution_count": 7,
      "outputs": [
        {
          "output_type": "execute_result",
          "data": {
            "text/plain": [
              "Seq('ATTAAAGGTTTATACCTTCCCAGGTAACAAACCAACCAACTTTCGATCTCTTGT...AAA', SingleLetterAlphabet())"
            ]
          },
          "metadata": {
            "tags": []
          },
          "execution_count": 7
        }
      ]
    },
    {
      "cell_type": "code",
      "metadata": {
        "id": "sNe8ek6s-wk6",
        "colab_type": "code",
        "outputId": "3850d002-dce5-42bc-c7cf-09040ca825ee",
        "colab": {
          "base_uri": "https://localhost:8080/",
          "height": 34
        }
      },
      "source": [
        "print(\"Sequence length (bp)\", len(record))"
      ],
      "execution_count": 8,
      "outputs": [
        {
          "output_type": "stream",
          "text": [
            "Sequence length (bp) 29903\n"
          ],
          "name": "stdout"
        }
      ]
    },
    {
      "cell_type": "code",
      "metadata": {
        "id": "OqnhVOkc_C8C",
        "colab_type": "code",
        "outputId": "5a488719-14c8-4ca3-f5c4-ce54469b9e53",
        "colab": {
          "base_uri": "https://localhost:8080/",
          "height": 34
        }
      },
      "source": [
        "print(\"GC content (%)\", GC(record.seq))"
      ],
      "execution_count": 9,
      "outputs": [
        {
          "output_type": "stream",
          "text": [
            "GC content (%) 37.97277865097148\n"
          ],
          "name": "stdout"
        }
      ]
    },
    {
      "cell_type": "markdown",
      "metadata": {
        "id": "T2_JFTYw_KzJ",
        "colab_type": "text"
      },
      "source": [
        "## **Compare to other genome sequences**\n",
        "Let's use BLAST to align the unknown sequence to other annoated sequences in the NCBI nt database, which contains sequences from many different species from accross the tree of life.\n",
        "\n",
        "This may take ~10 minutes since we are doing an online search against many sequences (for larger queries, it would sensible to run BLAST locally instead; see Bio.Blast.Applications)"
      ]
    },
    {
      "cell_type": "code",
      "metadata": {
        "id": "Qz4Efr-F_HOW",
        "colab_type": "code",
        "outputId": "5c66aee2-165b-400e-c6cd-e7ef15bedb9f",
        "colab": {
          "base_uri": "https://localhost:8080/",
          "height": 52
        }
      },
      "source": [
        "%%time\n",
        "result_handle = NCBIWWW.qblast(\"blastn\", \"nt\", record.seq)"
      ],
      "execution_count": 10,
      "outputs": [
        {
          "output_type": "stream",
          "text": [
            "CPU times: user 236 ms, sys: 73 ms, total: 309 ms\n",
            "Wall time: 34min 1s\n"
          ],
          "name": "stdout"
        }
      ]
    },
    {
      "cell_type": "code",
      "metadata": {
        "id": "7VpsVCDUozZD",
        "colab_type": "code",
        "colab": {}
      },
      "source": [
        "blast_qresult = SearchIO.read(result_handle, \"blast-xml\")"
      ],
      "execution_count": 0,
      "outputs": []
    },
    {
      "cell_type": "code",
      "metadata": {
        "id": "C_k39UCYpALw",
        "colab_type": "code",
        "colab": {
          "base_uri": "https://localhost:8080/",
          "height": 740
        },
        "outputId": "b68b2dba-f677-4b92-ee37-fdf5a165c08d"
      },
      "source": [
        "print(blast_qresult)"
      ],
      "execution_count": 12,
      "outputs": [
        {
          "output_type": "stream",
          "text": [
            "Program: blastn (2.10.0+)\n",
            "  Query: No (29903)\n",
            "         definition line\n",
            " Target: nt\n",
            "   Hits: ----  -----  ----------------------------------------------------------\n",
            "            #  # HSP  ID + description\n",
            "         ----  -----  ----------------------------------------------------------\n",
            "            0      1  gi|1798174254|ref|NC_045512.2|  Severe acute respirator...\n",
            "            1      1  gi|1819735426|gb|MT121215.1|  Severe acute respiratory ...\n",
            "            2      1  gi|1805293633|gb|MT019531.1|  Severe acute respiratory ...\n",
            "            3      1  gi|1820247323|dbj|LC529905.1|  Severe acute respiratory...\n",
            "            4      1  gi|1818244627|gb|MT135044.1|  Severe acute respiratory ...\n",
            "            5      1  gi|1818244605|gb|MT135042.1|  Severe acute respiratory ...\n",
            "            6      1  gi|1818244594|gb|MT135041.1|  Severe acute respiratory ...\n",
            "            7      1  gi|1805293611|gb|MT019529.1|  Severe acute respiratory ...\n",
            "            8      1  gi|1802633808|gb|MN996528.1|  Severe acute respiratory ...\n",
            "            9      1  gi|1818244616|gb|MT135043.1|  Severe acute respiratory ...\n",
            "           10      1  gi|1808633715|gb|MT049951.1|  Severe acute respiratory ...\n",
            "           11      1  gi|1805293644|gb|MT019532.1|  Severe acute respiratory ...\n",
            "           12      1  gi|1821109024|gb|MT192772.1|  Severe acute respiratory ...\n",
            "           13      1  gi|1820097838|gb|MT163719.1|  Severe acute respiratory ...\n",
            "           14      1  gi|1820097825|gb|MT163718.1|  Severe acute respiratory ...\n",
            "           15      1  gi|1819735733|gb|MT159721.1|  Severe acute respiratory ...\n",
            "           16      1  gi|1819735711|gb|MT159719.1|  Severe acute respiratory ...\n",
            "           17      1  gi|1819735656|gb|MT159714.1|  Severe acute respiratory ...\n",
            "           18      1  gi|1819735645|gb|MT159713.1|  Severe acute respiratory ...\n",
            "           19      1  gi|1819735623|gb|MT159711.1|  Severe acute respiratory ...\n",
            "           20      1  gi|1819735612|gb|MT159710.1|  Severe acute respiratory ...\n",
            "           21      1  gi|1821109035|gb|MT192773.1|  Severe acute respiratory ...\n",
            "           22      1  gi|1800455117|gb|MN988668.1|  Severe acute respiratory ...\n",
            "           23      1  gi|1807860439|gb|MT039890.1|  Severe acute respiratory ...\n",
            "           24      1  gi|1805293655|gb|MT019533.1|  Severe acute respiratory ...\n",
            "           25      1  gi|1820472829|gb|MT184912.1|  Severe acute respiratory ...\n",
            "           26      1  gi|1819735667|gb|MT159715.1|  Severe acute respiratory ...\n",
            "           27      1  gi|1819735567|gb|MT159709.1|  Severe acute respiratory ...\n",
            "           28      1  gi|1819735506|gb|MT159708.1|  Severe acute respiratory ...\n",
            "           29      1  gi|1819735484|gb|MT159707.1|  Severe acute respiratory ...\n",
            "           ~~~\n",
            "           47      1  gi|1803016604|gb|MT007544.1|  Severe acute respiratory ...\n",
            "           48      1  gi|1820518900|gb|MT123291.2|  Severe acute respiratory ...\n",
            "           49      1  gi|1820097799|gb|MT163716.1|  Severe acute respiratory ...\n"
          ],
          "name": "stdout"
        }
      ]
    },
    {
      "cell_type": "code",
      "metadata": {
        "id": "lcexWhYJpHvE",
        "colab_type": "code",
        "colab": {
          "base_uri": "https://localhost:8080/",
          "height": 105
        },
        "outputId": "36b354ce-0ffc-4655-a18f-5dd18dd27af3"
      },
      "source": [
        "[hit.description for hit in blast_qresult[:5]]"
      ],
      "execution_count": 13,
      "outputs": [
        {
          "output_type": "execute_result",
          "data": {
            "text/plain": [
              "['Severe acute respiratory syndrome coronavirus 2 isolate Wuhan-Hu-1, complete genome',\n",
              " 'Severe acute respiratory syndrome coronavirus 2 isolate SARS-CoV-2/SH01/human/2020/CHN, complete genome',\n",
              " 'Severe acute respiratory syndrome coronavirus 2 isolate BetaCoV/Wuhan/IPBCAMS-WH-03/2019, complete genome',\n",
              " 'Severe acute respiratory syndrome coronavirus 2 TKYE6182_2020 RNA, complete genome',\n",
              " 'Severe acute respiratory syndrome coronavirus 2 isolate SARS-CoV-2/235/human/2020/CHN, complete genome']"
            ]
          },
          "metadata": {
            "tags": []
          },
          "execution_count": 13
        }
      ]
    },
    {
      "cell_type": "markdown",
      "metadata": {
        "id": "_Z9WMTaHpWEe",
        "colab_type": "text"
      },
      "source": [
        "\n",
        "Well that looks fairly conclusive, without doing any quantitative analyses, it's already very likely we have a coronavirus genome here, specifically SARS2-CoV-2 that was the cause of the COVID19 pandemic!\n",
        "\n",
        "Let's have a look at the first result in a bit more detail to check some of the alignment metrics"
      ]
    },
    {
      "cell_type": "code",
      "metadata": {
        "id": "_aVrlUgfpXJD",
        "colab_type": "code",
        "colab": {}
      },
      "source": [
        "first_hit = blast_qresult[0]"
      ],
      "execution_count": 0,
      "outputs": []
    },
    {
      "cell_type": "code",
      "metadata": {
        "id": "HFV87WJbpbDl",
        "colab_type": "code",
        "colab": {
          "base_uri": "https://localhost:8080/",
          "height": 34
        },
        "outputId": "e0b5df98-031b-410a-de83-c5086527d0ac"
      },
      "source": [
        "first_hit.description"
      ],
      "execution_count": 16,
      "outputs": [
        {
          "output_type": "execute_result",
          "data": {
            "text/plain": [
              "'Severe acute respiratory syndrome coronavirus 2 isolate Wuhan-Hu-1, complete genome'"
            ]
          },
          "metadata": {
            "tags": []
          },
          "execution_count": 16
        }
      ]
    },
    {
      "cell_type": "code",
      "metadata": {
        "id": "nM6FyRfSpjtX",
        "colab_type": "code",
        "colab": {
          "base_uri": "https://localhost:8080/",
          "height": 34
        },
        "outputId": "cbca62aa-bf1b-44f8-f7f2-678c22edafcf"
      },
      "source": [
        "first_hsp = first_hit[0]\n",
        "print(first_hsp.evalue, first_hsp.bitscore)"
      ],
      "execution_count": 17,
      "outputs": [
        {
          "output_type": "stream",
          "text": [
            "0.0 53927.4\n"
          ],
          "name": "stdout"
        }
      ]
    },
    {
      "cell_type": "code",
      "metadata": {
        "id": "Hfq2mN0KplZL",
        "colab_type": "code",
        "colab": {
          "base_uri": "https://localhost:8080/",
          "height": 70
        },
        "outputId": "6533fe1a-3d68-4c3d-887d-7efd7accbb8d"
      },
      "source": [
        "print(first_hsp.aln)"
      ],
      "execution_count": 18,
      "outputs": [
        {
          "output_type": "stream",
          "text": [
            "DNAAlphabet() alignment with 2 rows and 29903 columns\n",
            "ATTAAAGGTTTATACCTTCCCAGGTAACAAACCAACCAACTTTC...AAA No\n",
            "ATTAAAGGTTTATACCTTCCCAGGTAACAAACCAACCAACTTTC...AAA gi|1798174254|ref|NC_045512.2|\n"
          ],
          "name": "stdout"
        }
      ]
    },
    {
      "cell_type": "markdown",
      "metadata": {
        "id": "Fj1i-rL1pu5x",
        "colab_type": "text"
      },
      "source": [
        "\n",
        "The alignment appears of high quality and not merely a spurious hit\n",
        "\n",
        "We could view/save the full sequence alignment, for illustration purposes, here is just the first 100 characters in FASTA format"
      ]
    },
    {
      "cell_type": "code",
      "metadata": {
        "id": "MDSRFTRqp04x",
        "colab_type": "code",
        "colab": {
          "base_uri": "https://localhost:8080/",
          "height": 70
        },
        "outputId": "5262725e-b621-415f-ff60-89dd12b79c81"
      },
      "source": [
        "print(first_hsp.aln.format(\"fasta\")[:100])"
      ],
      "execution_count": 19,
      "outputs": [
        {
          "output_type": "stream",
          "text": [
            ">No definition line\n",
            "ATTAAAGGTTTATACCTTCCCAGGTAACAAACCAACCAACTTTCGATCTCTTGTAGATCT\n",
            "GTTCTCTAAACGAACTTTA\n"
          ],
          "name": "stdout"
        }
      ]
    },
    {
      "cell_type": "markdown",
      "metadata": {
        "id": "vFbPcJkTpzeH",
        "colab_type": "text"
      },
      "source": [
        "\n",
        "Extract annotations on the matching genome sequence\n",
        "\n",
        "Let's extract a bit more structured meta-data on the top matching sequence homologous sequence using NCBI Entrez via Biopython to extract a GenBank file\n"
      ]
    },
    {
      "cell_type": "code",
      "metadata": {
        "id": "MyMuHW2ap8II",
        "colab_type": "code",
        "colab": {
          "base_uri": "https://localhost:8080/",
          "height": 34
        },
        "outputId": "f5eabb78-8dca-462c-fbc4-02fe4f617b54"
      },
      "source": [
        "NCBI_id = first_hit.id.split('|')[3]\n",
        "NCBI_id"
      ],
      "execution_count": 20,
      "outputs": [
        {
          "output_type": "execute_result",
          "data": {
            "text/plain": [
              "'NC_045512.2'"
            ]
          },
          "metadata": {
            "tags": []
          },
          "execution_count": 20
        }
      ]
    },
    {
      "cell_type": "code",
      "metadata": {
        "id": "3xemZIpeqBEF",
        "colab_type": "code",
        "colab": {}
      },
      "source": [
        "Entrez.email = \"cappelchi@gmail.com\"  # Always tell NCBI who you are"
      ],
      "execution_count": 0,
      "outputs": []
    },
    {
      "cell_type": "code",
      "metadata": {
        "id": "-vKi-f89qSHc",
        "colab_type": "code",
        "colab": {}
      },
      "source": [
        "handle = Entrez.efetch(db=\"nucleotide\", id= NCBI_id, retmode=\"text\", rettype=\"gb\")"
      ],
      "execution_count": 0,
      "outputs": []
    },
    {
      "cell_type": "code",
      "metadata": {
        "id": "gqKiBE4iqW9u",
        "colab_type": "code",
        "colab": {}
      },
      "source": [
        "genbank_record = SeqIO.read(handle, \"genbank\")"
      ],
      "execution_count": 0,
      "outputs": []
    },
    {
      "cell_type": "code",
      "metadata": {
        "id": "m0E_zTo_qZsA",
        "colab_type": "code",
        "colab": {
          "base_uri": "https://localhost:8080/",
          "height": 54
        },
        "outputId": "d8875eb9-4451-4103-b5fe-f795397183df"
      },
      "source": [
        "genbank_record"
      ],
      "execution_count": 24,
      "outputs": [
        {
          "output_type": "execute_result",
          "data": {
            "text/plain": [
              "SeqRecord(seq=Seq('ATTAAAGGTTTATACCTTCCCAGGTAACAAACCAACCAACTTTCGATCTCTTGT...AAA', IUPACAmbiguousDNA()), id='NC_045512.2', name='NC_045512', description='Severe acute respiratory syndrome coronavirus 2 isolate Wuhan-Hu-1, complete genome', dbxrefs=['BioProject:PRJNA485481'])"
            ]
          },
          "metadata": {
            "tags": []
          },
          "execution_count": 24
        }
      ]
    },
    {
      "cell_type": "code",
      "metadata": {
        "id": "ECZ-JIKsqkZi",
        "colab_type": "code",
        "colab": {
          "base_uri": "https://localhost:8080/",
          "height": 52
        },
        "outputId": "d550c9c4-2459-42cb-ca81-f27b9a316dbc"
      },
      "source": [
        "print(\"Is it single or double stranded and a DNA or RNA virus?\\n\",\n",
        "      genbank_record.annotations[\"molecule_type\"])"
      ],
      "execution_count": 25,
      "outputs": [
        {
          "output_type": "stream",
          "text": [
            "Is it single or double stranded and a DNA or RNA virus?\n",
            " ss-RNA\n"
          ],
          "name": "stdout"
        }
      ]
    },
    {
      "cell_type": "code",
      "metadata": {
        "id": "GysUlJGdrBlr",
        "colab_type": "code",
        "colab": {
          "base_uri": "https://localhost:8080/",
          "height": 936
        },
        "outputId": "c17fd926-af99-4152-90de-d4d44355d834"
      },
      "source": [
        "print(\"What are the relevant references/labs who generated the data?\\n\")\n",
        "for reference in genbank_record.annotations[\"references\"]:\n",
        "    print(reference)"
      ],
      "execution_count": 26,
      "outputs": [
        {
          "output_type": "stream",
          "text": [
            "What are the relevant references/labs who generated the data?\n",
            "\n",
            "location: [13475:13503]\n",
            "authors: Baranov,P.V., Henderson,C.M., Anderson,C.B., Gesteland,R.F., Atkins,J.F. and Howard,M.T.\n",
            "title: Programmed ribosomal frameshifting in decoding the SARS-CoV genome\n",
            "journal: Virology 332 (2), 498-510 (2005)\n",
            "medline id: \n",
            "pubmed id: 15680415\n",
            "comment: \n",
            "\n",
            "location: [29727:29768]\n",
            "authors: Robertson,M.P., Igel,H., Baertsch,R., Haussler,D., Ares,M. Jr. and Scott,W.G.\n",
            "title: The structure of a rigorously conserved RNA element within the SARS virus genome\n",
            "journal: PLoS Biol. 3 (1), e5 (2005)\n",
            "medline id: \n",
            "pubmed id: 15630477\n",
            "comment: \n",
            "\n",
            "location: [29608:29657]\n",
            "authors: Williams,G.D., Chang,R.Y. and Brian,D.A.\n",
            "title: A phylogenetically conserved hairpin-type 3' untranslated region pseudoknot functions in coronavirus RNA replication\n",
            "journal: J. Virol. 73 (10), 8349-8355 (1999)\n",
            "medline id: \n",
            "pubmed id: 10482585\n",
            "comment: \n",
            "\n",
            "location: [0:29903]\n",
            "authors: Wu,F., Zhao,S., Yu,B., Chen,Y.-M., Wang,W., Hu,Y., Song,Z.-G., Tao,Z.-W., Tian,J.-H., Pei,Y.-Y., Yuan,M.L., Zhang,Y.-L., Dai,F.-H., Liu,Y., Wang,Q.-M., Zheng,J.-J., Xu,L., Holmes,E.C. and Zhang,Y.-Z.\n",
            "title: A novel coronavirus associated with a respiratory disease in Wuhan of Hubei province, China\n",
            "journal: Unpublished\n",
            "medline id: \n",
            "pubmed id: \n",
            "comment: \n",
            "\n",
            "location: [0:29903]\n",
            "authors: \n",
            "consrtm: NCBI Genome Project\n",
            "title: Direct Submission\n",
            "journal: Submitted (17-JAN-2020) National Center for Biotechnology Information, NIH, Bethesda, MD 20894, USA\n",
            "medline id: \n",
            "pubmed id: \n",
            "comment: \n",
            "\n",
            "location: [0:29903]\n",
            "authors: Wu,F., Zhao,S., Yu,B., Chen,Y.-M., Wang,W., Hu,Y., Song,Z.-G., Tao,Z.-W., Tian,J.-H., Pei,Y.-Y., Yuan,M.L., Zhang,Y.-L., Dai,F.-H., Liu,Y., Wang,Q.-M., Zheng,J.-J., Xu,L., Holmes,E.C. and Zhang,Y.-Z.\n",
            "title: Direct Submission\n",
            "journal: Submitted (05-JAN-2020) Shanghai Public Health Clinical Center & School of Public Health, Fudan University, Shanghai, China\n",
            "medline id: \n",
            "pubmed id: \n",
            "comment: \n",
            "\n"
          ],
          "name": "stdout"
        }
      ]
    },
    {
      "cell_type": "code",
      "metadata": {
        "id": "y86zG615rRDw",
        "colab_type": "code",
        "colab": {
          "base_uri": "https://localhost:8080/",
          "height": 34
        },
        "outputId": "c24e5b6b-58b8-4df9-e911-c2d655a9ac45"
      },
      "source": [
        "len(genbank_record.features)"
      ],
      "execution_count": 27,
      "outputs": [
        {
          "output_type": "execute_result",
          "data": {
            "text/plain": [
              "57"
            ]
          },
          "metadata": {
            "tags": []
          },
          "execution_count": 27
        }
      ]
    },
    {
      "cell_type": "code",
      "metadata": {
        "id": "gK8zciwrrWP3",
        "colab_type": "code",
        "colab": {
          "base_uri": "https://localhost:8080/",
          "height": 34
        },
        "outputId": "b5216759-2be0-42f0-8d37-84ee2e921594"
      },
      "source": [
        "{feature.type for feature in genbank_record.features}"
      ],
      "execution_count": 28,
      "outputs": [
        {
          "output_type": "execute_result",
          "data": {
            "text/plain": [
              "{\"3'UTR\", \"5'UTR\", 'CDS', 'gene', 'mat_peptide', 'source', 'stem_loop'}"
            ]
          },
          "metadata": {
            "tags": []
          },
          "execution_count": 28
        }
      ]
    },
    {
      "cell_type": "code",
      "metadata": {
        "id": "0TGkXTkGrhlC",
        "colab_type": "code",
        "colab": {
          "base_uri": "https://localhost:8080/",
          "height": 34
        },
        "outputId": "5617e47b-774c-4ba7-fdfa-52f4fbfad321"
      },
      "source": [
        "CDSs = [feature for feature in genbank_record.features if feature.type == \"CDS\"]\n",
        "len(CDSs)"
      ],
      "execution_count": 29,
      "outputs": [
        {
          "output_type": "execute_result",
          "data": {
            "text/plain": [
              "12"
            ]
          },
          "metadata": {
            "tags": []
          },
          "execution_count": 29
        }
      ]
    },
    {
      "cell_type": "code",
      "metadata": {
        "id": "SJynj7ymrmWK",
        "colab_type": "code",
        "colab": {
          "base_uri": "https://localhost:8080/",
          "height": 34
        },
        "outputId": "610fe579-de3b-4b08-94dc-0699f9a8c107"
      },
      "source": [
        "CDSs[0].qualifiers[\"gene\"]"
      ],
      "execution_count": 30,
      "outputs": [
        {
          "output_type": "execute_result",
          "data": {
            "text/plain": [
              "['ORF1ab']"
            ]
          },
          "metadata": {
            "tags": []
          },
          "execution_count": 30
        }
      ]
    },
    {
      "cell_type": "code",
      "metadata": {
        "id": "qD4ocIPnrovM",
        "colab_type": "code",
        "colab": {}
      },
      "source": [
        "protein_seq = Seq(CDSs[0].qualifiers[\"translation\"][0])"
      ],
      "execution_count": 0,
      "outputs": []
    },
    {
      "cell_type": "code",
      "metadata": {
        "id": "oHWEetCLrv3D",
        "colab_type": "code",
        "colab": {
          "base_uri": "https://localhost:8080/",
          "height": 34
        },
        "outputId": "470cb278-fe6d-44a2-a708-08c3126ab2e8"
      },
      "source": [
        "protein_seq"
      ],
      "execution_count": 32,
      "outputs": [
        {
          "output_type": "execute_result",
          "data": {
            "text/plain": [
              "Seq('MESLVPGFNEKTHVQLSLPVLQVRDVLVRGFGDSVEEVLSEARQHLKDGTCGLV...VNN')"
            ]
          },
          "metadata": {
            "tags": []
          },
          "execution_count": 32
        }
      ]
    },
    {
      "cell_type": "code",
      "metadata": {
        "id": "r6ARYLM1rzz2",
        "colab_type": "code",
        "colab": {
          "base_uri": "https://localhost:8080/",
          "height": 52
        },
        "outputId": "69dbb855-0567-470c-97e6-a8be726718e2"
      },
      "source": [
        "print(\"Does the sequence begin with a start codon?\\n\",\n",
        "      protein_seq.startswith(\"M\"))"
      ],
      "execution_count": 33,
      "outputs": [
        {
          "output_type": "stream",
          "text": [
            "Does the sequence begin with a start codon?\n",
            " True\n"
          ],
          "name": "stdout"
        }
      ]
    },
    {
      "cell_type": "code",
      "metadata": {
        "id": "33OgGJFvr2v6",
        "colab_type": "code",
        "colab": {
          "base_uri": "https://localhost:8080/",
          "height": 440
        },
        "outputId": "5904e1ba-d0d8-4af8-9738-97675d25be19"
      },
      "source": [
        "print(CodonTable.unambiguous_dna_by_id[1])"
      ],
      "execution_count": 34,
      "outputs": [
        {
          "output_type": "stream",
          "text": [
            "Table 1 Standard, SGC0\n",
            "\n",
            "  |  T      |  C      |  A      |  G      |\n",
            "--+---------+---------+---------+---------+--\n",
            "T | TTT F   | TCT S   | TAT Y   | TGT C   | T\n",
            "T | TTC F   | TCC S   | TAC Y   | TGC C   | C\n",
            "T | TTA L   | TCA S   | TAA Stop| TGA Stop| A\n",
            "T | TTG L(s)| TCG S   | TAG Stop| TGG W   | G\n",
            "--+---------+---------+---------+---------+--\n",
            "C | CTT L   | CCT P   | CAT H   | CGT R   | T\n",
            "C | CTC L   | CCC P   | CAC H   | CGC R   | C\n",
            "C | CTA L   | CCA P   | CAA Q   | CGA R   | A\n",
            "C | CTG L(s)| CCG P   | CAG Q   | CGG R   | G\n",
            "--+---------+---------+---------+---------+--\n",
            "A | ATT I   | ACT T   | AAT N   | AGT S   | T\n",
            "A | ATC I   | ACC T   | AAC N   | AGC S   | C\n",
            "A | ATA I   | ACA T   | AAA K   | AGA R   | A\n",
            "A | ATG M(s)| ACG T   | AAG K   | AGG R   | G\n",
            "--+---------+---------+---------+---------+--\n",
            "G | GTT V   | GCT A   | GAT D   | GGT G   | T\n",
            "G | GTC V   | GCC A   | GAC D   | GGC G   | C\n",
            "G | GTA V   | GCA A   | GAA E   | GGA G   | A\n",
            "G | GTG V   | GCG A   | GAG E   | GGG G   | G\n",
            "--+---------+---------+---------+---------+--\n"
          ],
          "name": "stdout"
        }
      ]
    },
    {
      "cell_type": "markdown",
      "metadata": {
        "id": "HfcgchzaDUeu",
        "colab_type": "text"
      },
      "source": [
        "However, we can't perform an exact \"reverse translation\" of course, since several amino acids are produced by the same codon. Note that if instead we started with the nucleotide sequence, then we could use Biopython's .transcribe() and .translate() functions to convert sequences from DNA to RNA and DNA to protein respectively."
      ]
    },
    {
      "cell_type": "code",
      "metadata": {
        "id": "YwacDnASDU-M",
        "colab_type": "code",
        "colab": {
          "base_uri": "https://localhost:8080/",
          "height": 34
        },
        "outputId": "9dd4cdac-ce09-4e29-c153-f8d7d64052d0"
      },
      "source": [
        "print(\"Protein sequence length in amino acids\", len(protein_seq))"
      ],
      "execution_count": 36,
      "outputs": [
        {
          "output_type": "stream",
          "text": [
            "Protein sequence length in amino acids 7096\n"
          ],
          "name": "stdout"
        }
      ]
    },
    {
      "cell_type": "markdown",
      "metadata": {
        "id": "P-IKP3vYDqJu",
        "colab_type": "text"
      },
      "source": [
        "\n",
        "It is a long protein for a virus. Let's check the annotation"
      ]
    },
    {
      "cell_type": "code",
      "metadata": {
        "id": "po4AeWCeDrGK",
        "colab_type": "code",
        "colab": {
          "base_uri": "https://localhost:8080/",
          "height": 34
        },
        "outputId": "d10af826-987d-4794-fe25-08e3b0a9eaaa"
      },
      "source": [
        "CDSs[0].qualifiers[\"product\"]"
      ],
      "execution_count": 37,
      "outputs": [
        {
          "output_type": "execute_result",
          "data": {
            "text/plain": [
              "['ORF1ab polyprotein']"
            ]
          },
          "metadata": {
            "tags": []
          },
          "execution_count": 37
        }
      ]
    },
    {
      "cell_type": "markdown",
      "metadata": {
        "id": "PPUEtkCcD0XR",
        "colab_type": "text"
      },
      "source": [
        "\n",
        "So it looks like this is a polyprotein, which explains why it is a relatively long protein. Polyproteins are a typical feature of some viral genomes where smaller proteins are joined together, providing a particular organization of the viral proteome."
      ]
    }
  ]
}